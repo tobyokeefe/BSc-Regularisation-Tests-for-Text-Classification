{
 "cells": [
  {
   "cell_type": "code",
   "execution_count": 37,
   "metadata": {},
   "outputs": [
    {
     "name": "stdout",
     "output_type": "stream",
     "text": [
      "                                                    text  label\n",
      "0      dear american teens question dutch person hear...      0\n",
      "1      nothing look forward lifei dont many reasons k...      1\n",
      "2      music recommendations im looking expand playli...      0\n",
      "3      im done trying feel betterthe reason im still ...      1\n",
      "4      worried  year old girl subject domestic physic...      1\n",
      "...                                                  ...    ...\n",
      "27972  posting everyday people stop caring  religion ...      0\n",
      "27973  okay definetly need hear guys opinion ive pret...      0\n",
      "27974  cant get dog think ill kill myselfthe last thi...      1\n",
      "27975  whats point princess bridei really think like ...      1\n",
      "27976  got nudes person might might know snapchat do ...      0\n",
      "\n",
      "[27977 rows x 2 columns]\n",
      "513\n",
      "(1000, 7779)\n"
     ]
    }
   ],
   "source": [
    "import numpy as np \n",
    "import pandas as pd \n",
    "import matplotlib.pyplot as plt \n",
    "\n",
    "import nltk\n",
    "from nltk.stem import PorterStemmer\n",
    "from nltk.tokenize import word_tokenize\n",
    "\n",
    "from sklearn.model_selection import cross_val_score\n",
    "\n",
    "from sklearn.feature_extraction.text import TfidfVectorizer \n",
    "from sklearn.model_selection import train_test_split\n",
    "from sklearn.linear_model import LogisticRegression\n",
    "from sklearn.metrics import classification_report\n",
    "from sklearn.decomposition import PCA\n",
    "\n",
    "path_name = 'your_path_name_here/mental_health.csv'\n",
    "df=pd.read_csv(path_name)\n",
    "print(df)\n",
    "\n",
    "df = df.drop_duplicates()\n",
    "\n",
    "#REDUCED SAMPLING\n",
    "import random\n",
    "random.seed(1)\n",
    "size = list(df.index)\n",
    "sample = random.sample(size,1000)\n",
    "df = df.loc[sample]\n",
    "\n",
    "\n",
    "#Split the matrix into predictors and response \n",
    "msg=df[\"text\"]\n",
    "msg=msg.str.replace('[^a-zA-Z0-9]+',\" h\", regex = True) \n",
    "y=df['label'].values\n",
    "y \n",
    "\n",
    "\n",
    "#Stemming and Tokenising\n",
    "stemmer=PorterStemmer()\n",
    "msg=msg.apply(lambda line:[stemmer.stem(token.lower()) for token in word_tokenize(line)]).apply(lambda token:\" \".join(token))\n",
    "msg=msg.apply(lambda line:[token for token in word_tokenize(line) if len(token)>2]).apply(lambda y:\" \".join(y))\n",
    "\n",
    "#Vectorising\n",
    "tf=TfidfVectorizer() \n",
    "data_vec=tf.fit_transform(msg)\n",
    "print(data_vec.shape)\n",
    "\n",
    "#Train, Validation, and Test Split ###RANDOMSTATE=1###\n",
    "from sklearn.model_selection import train_test_split\n",
    "#test_size=0.3 implies 70% will be used to training and 30% for testing. \n",
    "#random_state sets seed for random number generator, ensuring reducibility\n",
    "x_train,x_test,y_train,y_test=train_test_split(data_vec,y,test_size=0.3,random_state=1)\n"
   ]
  },
  {
   "cell_type": "code",
   "execution_count": 38,
   "metadata": {},
   "outputs": [],
   "source": [
    "x_train_dense = x_train.todense()\n",
    "x_test_dense = x_test.todense()"
   ]
  },
  {
   "cell_type": "code",
   "execution_count": 39,
   "metadata": {},
   "outputs": [
    {
     "name": "stderr",
     "output_type": "stream",
     "text": [
      "/Users/tobyokeefe/opt/anaconda3/lib/python3.9/site-packages/sklearn/utils/validation.py:593: FutureWarning: np.matrix usage is deprecated in 1.0 and will raise a TypeError in 1.2. Please convert to a numpy array with np.asarray. For more information see: https://numpy.org/doc/stable/reference/generated/numpy.matrix.html\n",
      "  warnings.warn(\n"
     ]
    },
    {
     "name": "stdout",
     "output_type": "stream",
     "text": [
      "Accuracy on the test set: 0.8233333333333334\n",
      "              precision    recall  f1-score   support\n",
      "\n",
      "           0       0.80      0.87      0.83       152\n",
      "           1       0.85      0.78      0.81       148\n",
      "\n",
      "    accuracy                           0.82       300\n",
      "   macro avg       0.83      0.82      0.82       300\n",
      "weighted avg       0.83      0.82      0.82       300\n",
      "\n"
     ]
    },
    {
     "name": "stderr",
     "output_type": "stream",
     "text": [
      "/Users/tobyokeefe/opt/anaconda3/lib/python3.9/site-packages/sklearn/utils/validation.py:593: FutureWarning: np.matrix usage is deprecated in 1.0 and will raise a TypeError in 1.2. Please convert to a numpy array with np.asarray. For more information see: https://numpy.org/doc/stable/reference/generated/numpy.matrix.html\n",
      "  warnings.warn(\n"
     ]
    }
   ],
   "source": [
    "#PCA #2 Components\n",
    "\n",
    "\n",
    "pca = PCA(n_components = 2)\n",
    "x_train_pca = pca.fit_transform(x_train_dense)\n",
    "\n",
    "modelLR = LogisticRegression(penalty='none')\n",
    "\n",
    "modelLR.fit(x_train_pca,y_train)\n",
    "\n",
    "# Transform the test set as well \n",
    "x_test_pca = pca.transform(x_test_dense)\n",
    "\n",
    "# Make predictions on a new set of data\n",
    "predictions = modelLR.predict(x_test_pca)\n",
    "\n",
    "# Compare the predicted labels to the true labels\n",
    "accuracy_on_test_set = modelLR.score(x_test_pca, y_test) #accuracy = # of correct predictions / total # of predictions\n",
    "print(\"Accuracy on the test set:\", accuracy_on_test_set)\n",
    "print(classification_report(y_test,predictions))"
   ]
  },
  {
   "cell_type": "code",
   "execution_count": 40,
   "metadata": {},
   "outputs": [
    {
     "name": "stdout",
     "output_type": "stream",
     "text": [
      "Best C value selected by cross-validation: 0.39810717055351486\n",
      "Best lambda value (regularisation value) selected by cross-validation: 2.511886431509469\n",
      "Accuracy on the test set: 0.8266666666666667\n",
      "              precision    recall  f1-score   support\n",
      "\n",
      "           0       0.79      0.89      0.84       152\n",
      "           1       0.87      0.76      0.81       148\n",
      "\n",
      "    accuracy                           0.83       300\n",
      "   macro avg       0.83      0.83      0.83       300\n",
      "weighted avg       0.83      0.83      0.83       300\n",
      "\n"
     ]
    }
   ],
   "source": [
    "#Logistic Lasso with 5 fold Cross Validation on PCA reduced data (2 components)\n",
    "\n",
    "alphas = 10.0 ** np.arange(-5, 5, 0.1)\n",
    "\n",
    "cv_scores = [] \n",
    "\n",
    "# Perform cross-validation for each value of C\n",
    "for alpha in alphas:\n",
    "    modelLR_lasso = LogisticRegression(penalty='l1', C = 1/alpha, random_state=1, solver='liblinear')\n",
    "    scores = cross_val_score(modelLR_lasso, x_train_pca, y_train, cv = 5)  # 5-fold cross-validation\n",
    "    cv_scores.append(np.mean(scores))\n",
    "\n",
    "\n",
    "# Find the index corresponding to the best C value\n",
    "best_CV_index = np.argmax(cv_scores)\n",
    "best_alpha = alphas[best_CV_index]\n",
    "\n",
    "# Inspect the best C value\n",
    "print(\"Best C value selected by cross-validation:\", 1/best_alpha)\n",
    "print(\"Best lambda value (regularisation value) selected by cross-validation:\", best_alpha)\n",
    "\n",
    "modelLR_lasso = LogisticRegression(penalty='l1', C=1/best_alpha, random_state=1, solver = 'liblinear')\n",
    "\n",
    "modelLR_lasso.fit(x_train_pca,y_train)\n",
    "\n",
    "\n",
    "# Make predictions on a new set of data\n",
    "predictions = modelLR_lasso.predict(x_test_pca)\n",
    "\n",
    "# Compare the predicted labels to the true labels\n",
    "accuracy_on_test_set = modelLR_lasso.score(x_test_pca, y_test) #accuaracy = # of correct predictions / total # of predictions\n",
    "\n",
    "print(\"Accuracy on the test set:\", accuracy_on_test_set)\n",
    "\n",
    "print(classification_report(y_test,predictions))"
   ]
  },
  {
   "cell_type": "code",
   "execution_count": 41,
   "metadata": {},
   "outputs": [
    {
     "name": "stdout",
     "output_type": "stream",
     "text": [
      "Best C value selected by cross-validation: 2.5118864315096747\n",
      "Best lambda value (regularisation value) selected by cross-validation: 0.39810717055348227\n",
      "Accuracy on the test set: 0.8266666666666667\n",
      "              precision    recall  f1-score   support\n",
      "\n",
      "           0       0.79      0.89      0.84       152\n",
      "           1       0.87      0.76      0.81       148\n",
      "\n",
      "    accuracy                           0.83       300\n",
      "   macro avg       0.83      0.83      0.83       300\n",
      "weighted avg       0.83      0.83      0.83       300\n",
      "\n"
     ]
    }
   ],
   "source": [
    "#Logistic Ridge with 5 fold Cross Validation on PCA reduced data (2 components)\n",
    "\n",
    "alphas = 10.0 ** np.arange(-5, 5, 0.1)\n",
    "\n",
    "cv_scores = [] \n",
    "\n",
    "# Perform cross-validation for each value of C\n",
    "for alpha in alphas:\n",
    "    modelLR_Ridge = LogisticRegression(penalty='l2', C = 1/alpha, random_state=1, solver='liblinear')\n",
    "    scores = cross_val_score(modelLR_Ridge, x_train_pca, y_train, cv = 5)  # 5-fold cross-validation\n",
    "    cv_scores.append(np.mean(scores))\n",
    "\n",
    "\n",
    "# Find the index corresponding to the best C value\n",
    "best_CV_index = np.argmax(cv_scores)\n",
    "best_alpha = alphas[best_CV_index]\n",
    "\n",
    "# Inspect the best C value\n",
    "print(\"Best C value selected by cross-validation:\", 1/best_alpha)\n",
    "print(\"Best lambda value (regularisation value) selected by cross-validation:\", best_alpha)\n",
    "\n",
    "modelLR_Ridge = LogisticRegression(penalty='l2', C=1/best_alpha, random_state=1, solver = 'liblinear')\n",
    "\n",
    "modelLR_Ridge.fit(x_train_pca,y_train)\n",
    "\n",
    "\n",
    "# Make predictions on a new set of data\n",
    "predictions = modelLR_Ridge.predict(x_test_pca)\n",
    "\n",
    "# Compare the predicted labels to the true labels\n",
    "accuracy_on_test_set = modelLR_Ridge.score(x_test_pca, y_test) #accuaracy = # of correct predictions / total # of predictions\n",
    "\n",
    "print(\"Accuracy on the test set:\", accuracy_on_test_set)\n",
    "\n",
    "print(classification_report(y_test,predictions))"
   ]
  },
  {
   "cell_type": "code",
   "execution_count": 42,
   "metadata": {},
   "outputs": [
    {
     "name": "stderr",
     "output_type": "stream",
     "text": [
      "/Users/tobyokeefe/opt/anaconda3/lib/python3.9/site-packages/sklearn/utils/validation.py:593: FutureWarning: np.matrix usage is deprecated in 1.0 and will raise a TypeError in 1.2. Please convert to a numpy array with np.asarray. For more information see: https://numpy.org/doc/stable/reference/generated/numpy.matrix.html\n",
      "  warnings.warn(\n"
     ]
    },
    {
     "name": "stdout",
     "output_type": "stream",
     "text": [
      "Accuracy on the test set: 0.8466666666666667\n",
      "              precision    recall  f1-score   support\n",
      "\n",
      "           0       0.82      0.90      0.86       152\n",
      "           1       0.89      0.79      0.84       148\n",
      "\n",
      "    accuracy                           0.85       300\n",
      "   macro avg       0.85      0.85      0.85       300\n",
      "weighted avg       0.85      0.85      0.85       300\n",
      "\n"
     ]
    },
    {
     "name": "stderr",
     "output_type": "stream",
     "text": [
      "/Users/tobyokeefe/opt/anaconda3/lib/python3.9/site-packages/sklearn/utils/validation.py:593: FutureWarning: np.matrix usage is deprecated in 1.0 and will raise a TypeError in 1.2. Please convert to a numpy array with np.asarray. For more information see: https://numpy.org/doc/stable/reference/generated/numpy.matrix.html\n",
      "  warnings.warn(\n"
     ]
    }
   ],
   "source": [
    "#PCA #4 Components\n",
    "\n",
    "pca = PCA(n_components = 4)\n",
    "x_train_pca = pca.fit_transform(x_train_dense)\n",
    "\n",
    "modelLR = LogisticRegression(penalty='none')\n",
    "\n",
    "modelLR.fit(x_train_pca,y_train)\n",
    "\n",
    "# Transform the test set as well \n",
    "x_test_pca = pca.transform(x_test_dense)\n",
    "\n",
    "# Make predictions on a new set of data\n",
    "predictions = modelLR.predict(x_test_pca)\n",
    "\n",
    "# Compare the predicted labels to the true labels\n",
    "accuracy_on_test_set = modelLR.score(x_test_pca, y_test) #accuracy = # of correct predictions / total # of predictions\n",
    "print(\"Accuracy on the test set:\", accuracy_on_test_set)\n",
    "print(classification_report(y_test,predictions))"
   ]
  },
  {
   "cell_type": "code",
   "execution_count": 43,
   "metadata": {},
   "outputs": [
    {
     "name": "stdout",
     "output_type": "stream",
     "text": [
      "Best C value selected by cross-validation: 1.2589254117942177\n",
      "Best lambda value (regularisation value) selected by cross-validation: 0.7943282347242496\n",
      "Accuracy on the test set: 0.8466666666666667\n",
      "              precision    recall  f1-score   support\n",
      "\n",
      "           0       0.82      0.90      0.86       152\n",
      "           1       0.89      0.79      0.84       148\n",
      "\n",
      "    accuracy                           0.85       300\n",
      "   macro avg       0.85      0.85      0.85       300\n",
      "weighted avg       0.85      0.85      0.85       300\n",
      "\n"
     ]
    }
   ],
   "source": [
    "#Logistic Lasso with 5 fold Cross Validation on PCA reduced data (4 components)\n",
    "\n",
    "alphas = 10.0 ** np.arange(-5, 5, 0.1)\n",
    "\n",
    "cv_scores = [] \n",
    "\n",
    "# Perform cross-validation for each value of C\n",
    "for alpha in alphas:\n",
    "    modelLR_lasso = LogisticRegression(penalty='l1', C = 1/alpha, random_state=1, solver='liblinear')\n",
    "    scores = cross_val_score(modelLR_lasso, x_train_pca, y_train, cv = 5)  # 5-fold cross-validation\n",
    "    cv_scores.append(np.mean(scores))\n",
    "\n",
    "\n",
    "# Find the index corresponding to the best C value\n",
    "best_CV_index = np.argmax(cv_scores)\n",
    "best_alpha = alphas[best_CV_index]\n",
    "\n",
    "# Inspect the best C value\n",
    "print(\"Best C value selected by cross-validation:\", 1/best_alpha)\n",
    "print(\"Best lambda value (regularisation value) selected by cross-validation:\", best_alpha)\n",
    "\n",
    "modelLR_lasso = LogisticRegression(penalty='l1', C=1/best_alpha, random_state=1, solver = 'liblinear')\n",
    "\n",
    "modelLR_lasso.fit(x_train_pca,y_train)\n",
    "\n",
    "\n",
    "# Make predictions on a new set of data\n",
    "predictions = modelLR_lasso.predict(x_test_pca)\n",
    "\n",
    "# Compare the predicted labels to the true labels\n",
    "accuracy_on_test_set = modelLR_lasso.score(x_test_pca, y_test) #accuaracy = # of correct predictions / total # of predictions\n",
    "\n",
    "print(\"Accuracy on the test set:\", accuracy_on_test_set)\n",
    "\n",
    "print(classification_report(y_test,predictions))"
   ]
  },
  {
   "cell_type": "code",
   "execution_count": 44,
   "metadata": {},
   "outputs": [
    {
     "name": "stdout",
     "output_type": "stream",
     "text": [
      "Best C value selected by cross-validation: 2.5118864315096747\n",
      "Best lambda value (regularisation value) selected by cross-validation: 0.39810717055348227\n",
      "Accuracy on the test set: 0.8466666666666667\n",
      "              precision    recall  f1-score   support\n",
      "\n",
      "           0       0.81      0.91      0.86       152\n",
      "           1       0.90      0.78      0.83       148\n",
      "\n",
      "    accuracy                           0.85       300\n",
      "   macro avg       0.85      0.85      0.85       300\n",
      "weighted avg       0.85      0.85      0.85       300\n",
      "\n"
     ]
    }
   ],
   "source": [
    "#Logistic Ridge with 5 fold Cross Validation on PCA reduced data (4 components)\n",
    "\n",
    "\n",
    "alphas = 10.0 ** np.arange(-5, 5, 0.1)\n",
    "\n",
    "cv_scores = [] \n",
    "\n",
    "# Perform cross-validation for each value of C\n",
    "for alpha in alphas:\n",
    "    modelLR_Ridge = LogisticRegression(penalty='l2', C = 1/alpha, random_state=1, solver='liblinear')\n",
    "    scores = cross_val_score(modelLR_Ridge, x_train_pca, y_train, cv = 5)  # 5-fold cross-validation\n",
    "    cv_scores.append(np.mean(scores))\n",
    "\n",
    "\n",
    "# Find the index corresponding to the best C value\n",
    "best_CV_index = np.argmax(cv_scores)\n",
    "best_alpha = alphas[best_CV_index]\n",
    "\n",
    "# Inspect the best C value\n",
    "print(\"Best C value selected by cross-validation:\", 1/best_alpha)\n",
    "print(\"Best lambda value (regularisation value) selected by cross-validation:\", best_alpha)\n",
    "\n",
    "modelLR_Ridge = LogisticRegression(penalty='l2', C=1/best_alpha, random_state=1, solver = 'liblinear')\n",
    "\n",
    "modelLR_Ridge.fit(x_train_pca,y_train)\n",
    "\n",
    "\n",
    "# Make predictions on a new set of data\n",
    "predictions = modelLR_Ridge.predict(x_test_pca)\n",
    "\n",
    "# Compare the predicted labels to the true labels\n",
    "accuracy_on_test_set = modelLR_Ridge.score(x_test_pca, y_test) #accuaracy = # of correct predictions / total # of predictions\n",
    "\n",
    "print(\"Accuracy on the test set:\", accuracy_on_test_set)\n",
    "\n",
    "print(classification_report(y_test,predictions))"
   ]
  },
  {
   "cell_type": "code",
   "execution_count": 45,
   "metadata": {},
   "outputs": [
    {
     "name": "stderr",
     "output_type": "stream",
     "text": [
      "/Users/tobyokeefe/opt/anaconda3/lib/python3.9/site-packages/sklearn/utils/validation.py:593: FutureWarning: np.matrix usage is deprecated in 1.0 and will raise a TypeError in 1.2. Please convert to a numpy array with np.asarray. For more information see: https://numpy.org/doc/stable/reference/generated/numpy.matrix.html\n",
      "  warnings.warn(\n"
     ]
    },
    {
     "name": "stdout",
     "output_type": "stream",
     "text": [
      "Accuracy on the test set: 0.87\n",
      "              precision    recall  f1-score   support\n",
      "\n",
      "           0       0.84      0.92      0.88       152\n",
      "           1       0.91      0.82      0.86       148\n",
      "\n",
      "    accuracy                           0.87       300\n",
      "   macro avg       0.87      0.87      0.87       300\n",
      "weighted avg       0.87      0.87      0.87       300\n",
      "\n"
     ]
    },
    {
     "name": "stderr",
     "output_type": "stream",
     "text": [
      "/Users/tobyokeefe/opt/anaconda3/lib/python3.9/site-packages/sklearn/utils/validation.py:593: FutureWarning: np.matrix usage is deprecated in 1.0 and will raise a TypeError in 1.2. Please convert to a numpy array with np.asarray. For more information see: https://numpy.org/doc/stable/reference/generated/numpy.matrix.html\n",
      "  warnings.warn(\n"
     ]
    }
   ],
   "source": [
    "#PCA #6 Components\n",
    "\n",
    "pca = PCA(n_components = 6)\n",
    "x_train_pca = pca.fit_transform(x_train_dense)\n",
    "\n",
    "modelLR = LogisticRegression(penalty='none')\n",
    "\n",
    "modelLR.fit(x_train_pca,y_train)\n",
    "\n",
    "# Transform the test set as well \n",
    "x_test_pca = pca.transform(x_test_dense)\n",
    "\n",
    "# Make predictions on a new set of data\n",
    "predictions = modelLR.predict(x_test_pca)\n",
    "\n",
    "# Compare the predicted labels to the true labels\n",
    "accuracy_on_test_set = modelLR.score(x_test_pca, y_test) #accuracy = # of correct predictions / total # of predictions\n",
    "print(\"Accuracy on the test set:\", accuracy_on_test_set)\n",
    "print(classification_report(y_test,predictions))"
   ]
  },
  {
   "cell_type": "code",
   "execution_count": 46,
   "metadata": {},
   "outputs": [
    {
     "name": "stdout",
     "output_type": "stream",
     "text": [
      "Best C value selected by cross-validation: 158.48931924611497\n",
      "Best lambda value (regularisation value) selected by cross-validation: 0.006309573444801788\n",
      "Accuracy on the test set: 0.87\n",
      "              precision    recall  f1-score   support\n",
      "\n",
      "           0       0.84      0.92      0.88       152\n",
      "           1       0.91      0.82      0.86       148\n",
      "\n",
      "    accuracy                           0.87       300\n",
      "   macro avg       0.87      0.87      0.87       300\n",
      "weighted avg       0.87      0.87      0.87       300\n",
      "\n"
     ]
    }
   ],
   "source": [
    "#Logistic Lasso with 5 fold Cross Validation on PCA reduced data (6 components)\n",
    "\n",
    "alphas = 10.0 ** np.arange(-5, 5, 0.1)\n",
    "\n",
    "cv_scores = [] \n",
    "\n",
    "# Perform cross-validation for each value of C\n",
    "for alpha in alphas:\n",
    "    modelLR_lasso = LogisticRegression(penalty='l1', C = 1/alpha, random_state=1, solver='liblinear')\n",
    "    scores = cross_val_score(modelLR_lasso, x_train_pca, y_train, cv = 5)  # 5-fold cross-validation\n",
    "    cv_scores.append(np.mean(scores))\n",
    "\n",
    "\n",
    "# Find the index corresponding to the best C value\n",
    "best_CV_index = np.argmax(cv_scores)\n",
    "best_alpha = alphas[best_CV_index]\n",
    "\n",
    "# Print or inspect the best C value\n",
    "print(\"Best C value selected by cross-validation:\", 1/best_alpha)\n",
    "print(\"Best lambda value (regularisation value) selected by cross-validation:\", best_alpha)\n",
    "\n",
    "modelLR_lasso = LogisticRegression(penalty='l1', C=1/best_alpha, random_state=1, solver = 'liblinear')\n",
    "\n",
    "modelLR_lasso.fit(x_train_pca,y_train)\n",
    "\n",
    "\n",
    "# Make predictions on a new set of data\n",
    "predictions = modelLR_lasso.predict(x_test_pca)\n",
    "\n",
    "# Compare the predicted labels to the true labels\n",
    "accuracy_on_test_set = modelLR_lasso.score(x_test_pca, y_test) #accuaracy = # of correct predictions / total # of predictions\n",
    "\n",
    "print(\"Accuracy on the test set:\", accuracy_on_test_set)\n",
    "\n",
    "print(classification_report(y_test,predictions))"
   ]
  },
  {
   "cell_type": "code",
   "execution_count": 47,
   "metadata": {},
   "outputs": [
    {
     "name": "stdout",
     "output_type": "stream",
     "text": [
      "Best C value selected by cross-validation: 1000.0000000000165\n",
      "Best lambda value (regularisation value) selected by cross-validation: 0.0009999999999999835\n",
      "Accuracy on the test set: 0.87\n",
      "              precision    recall  f1-score   support\n",
      "\n",
      "           0       0.84      0.92      0.88       152\n",
      "           1       0.91      0.82      0.86       148\n",
      "\n",
      "    accuracy                           0.87       300\n",
      "   macro avg       0.87      0.87      0.87       300\n",
      "weighted avg       0.87      0.87      0.87       300\n",
      "\n"
     ]
    }
   ],
   "source": [
    "#Logistic Ridge with 5 fold Cross Validation on PCA reduced data (6 components)\n",
    "\n",
    "\n",
    "alphas = 10.0 ** np.arange(-5, 5, 0.1)\n",
    "\n",
    "cv_scores = [] \n",
    "\n",
    "# Perform cross-validation for each value of C\n",
    "for alpha in alphas:\n",
    "    modelLR_Ridge = LogisticRegression(penalty='l2', C = 1/alpha, random_state=1, solver='liblinear')\n",
    "    scores = cross_val_score(modelLR_Ridge, x_train_pca, y_train, cv = 5)  # 5-fold cross-validation\n",
    "    cv_scores.append(np.mean(scores))\n",
    "\n",
    "\n",
    "# Find the index corresponding to the best C value\n",
    "best_CV_index = np.argmax(cv_scores)\n",
    "best_alpha = alphas[best_CV_index]\n",
    "\n",
    "# Inspect the best C value\n",
    "print(\"Best C value selected by cross-validation:\", 1/best_alpha)\n",
    "print(\"Best lambda value (regularisation value) selected by cross-validation:\", best_alpha)\n",
    "\n",
    "modelLR_Ridge = LogisticRegression(penalty='l2', C=1/best_alpha, random_state=1, solver = 'liblinear')\n",
    "\n",
    "modelLR_Ridge.fit(x_train_pca,y_train)\n",
    "\n",
    "\n",
    "# Make predictions on a new set of data\n",
    "predictions = modelLR_Ridge.predict(x_test_pca)\n",
    "\n",
    "# Compare the predicted labels to the true labels\n",
    "accuracy_on_test_set = modelLR_Ridge.score(x_test_pca, y_test) #accuaracy = # of correct predictions / total # of predictions\n",
    "\n",
    "print(\"Accuracy on the test set:\", accuracy_on_test_set)\n",
    "\n",
    "print(classification_report(y_test,predictions))"
   ]
  }
 ],
 "metadata": {
  "kernelspec": {
   "display_name": "base",
   "language": "python",
   "name": "python3"
  },
  "language_info": {
   "codemirror_mode": {
    "name": "ipython",
    "version": 3
   },
   "file_extension": ".py",
   "mimetype": "text/x-python",
   "name": "python",
   "nbconvert_exporter": "python",
   "pygments_lexer": "ipython3",
   "version": "3.9.12"
  }
 },
 "nbformat": 4,
 "nbformat_minor": 2
}

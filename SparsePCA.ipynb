{
 "cells": [
  {
   "cell_type": "code",
   "execution_count": 7,
   "metadata": {},
   "outputs": [
    {
     "name": "stdout",
     "output_type": "stream",
     "text": [
      "                                                    text  label\n",
      "0      dear american teens question dutch person hear...      0\n",
      "1      nothing look forward lifei dont many reasons k...      1\n",
      "2      music recommendations im looking expand playli...      0\n",
      "3      im done trying feel betterthe reason im still ...      1\n",
      "4      worried  year old girl subject domestic physic...      1\n",
      "...                                                  ...    ...\n",
      "27972  posting everyday people stop caring  religion ...      0\n",
      "27973  okay definetly need hear guys opinion ive pret...      0\n",
      "27974  cant get dog think ill kill myselfthe last thi...      1\n",
      "27975  whats point princess bridei really think like ...      1\n",
      "27976  got nudes person might might know snapchat do ...      0\n",
      "\n",
      "[27977 rows x 2 columns]\n",
      "513\n",
      "(1000, 7779)\n"
     ]
    }
   ],
   "source": [
    "import numpy as np \n",
    "import pandas as pd \n",
    "import matplotlib.pyplot as plt \n",
    "\n",
    "import nltk\n",
    "from nltk.stem import PorterStemmer\n",
    "from nltk.tokenize import word_tokenize\n",
    "\n",
    "from sklearn.model_selection import cross_val_score\n",
    "\n",
    "from sklearn.feature_extraction.text import TfidfVectorizer \n",
    "from sklearn.model_selection import train_test_split\n",
    "from sklearn.linear_model import LogisticRegression\n",
    "from sklearn.metrics import classification_report\n",
    "from sklearn.decomposition import SparsePCA\n",
    "\n",
    "path_name = 'your_path_name_here/mental_health.csv'\n",
    "df=pd.read_csv(path_name)\n",
    "print(df)\n",
    "\n",
    "df = df.drop_duplicates()\n",
    "\n",
    "#REDUCED SAMPLING\n",
    "import random\n",
    "random.seed(1)\n",
    "size = list(df.index)\n",
    "sample = random.sample(size,1000)\n",
    "df = df.loc[sample]\n",
    "\n",
    "print(sum(df[\"label\"]))\n",
    "\n",
    "#Split the matrix into predictors and response \n",
    "msg=df[\"text\"]\n",
    "msg=msg.str.replace('[^a-zA-Z0-9]+',\" h\", regex = True) \n",
    "y=df['label'].values\n",
    "y \n",
    "\n",
    "\n",
    "#Stemming and Tokenising\n",
    "stemmer=PorterStemmer()\n",
    "msg=msg.apply(lambda line:[stemmer.stem(token.lower()) for token in word_tokenize(line)]).apply(lambda token:\" \".join(token))\n",
    "msg=msg.apply(lambda line:[token for token in word_tokenize(line) if len(token)>2]).apply(lambda y:\" \".join(y))\n",
    "\n",
    "#Vectorising\n",
    "tf=TfidfVectorizer() \n",
    "data_vec=tf.fit_transform(msg)\n",
    "print(data_vec.shape)\n",
    "\n",
    "#Train, Validation, and Test Split ###RANDOMSTATE=1###\n",
    "from sklearn.model_selection import train_test_split\n",
    "#test_size=0.3 implies 70% will be used to training and 30% for testing. \n",
    "#random_state sets seed for random number generator, ensuring reducibility\n",
    "x_train,x_test,y_train,y_test=train_test_split(data_vec,y,test_size=0.3,random_state=1)"
   ]
  },
  {
   "cell_type": "code",
   "execution_count": 8,
   "metadata": {},
   "outputs": [],
   "source": [
    "x_train_dense = x_train.todense()\n",
    "x_test_dense = x_test.todense()"
   ]
  },
  {
   "cell_type": "code",
   "execution_count": 9,
   "metadata": {},
   "outputs": [
    {
     "name": "stderr",
     "output_type": "stream",
     "text": [
      "/Users/tobyokeefe/opt/anaconda3/lib/python3.9/site-packages/sklearn/utils/validation.py:593: FutureWarning: np.matrix usage is deprecated in 1.0 and will raise a TypeError in 1.2. Please convert to a numpy array with np.asarray. For more information see: https://numpy.org/doc/stable/reference/generated/numpy.matrix.html\n",
      "  warnings.warn(\n"
     ]
    },
    {
     "name": "stderr",
     "output_type": "stream",
     "text": [
      "/Users/tobyokeefe/opt/anaconda3/lib/python3.9/site-packages/sklearn/utils/validation.py:593: FutureWarning: np.matrix usage is deprecated in 1.0 and will raise a TypeError in 1.2. Please convert to a numpy array with np.asarray. For more information see: https://numpy.org/doc/stable/reference/generated/numpy.matrix.html\n",
      "  warnings.warn(\n"
     ]
    },
    {
     "name": "stdout",
     "output_type": "stream",
     "text": [
      "Accuracy on the test set: 0.6833333333333333\n",
      "              precision    recall  f1-score   support\n",
      "\n",
      "           0       0.64      0.84      0.73       152\n",
      "           1       0.76      0.53      0.62       148\n",
      "\n",
      "    accuracy                           0.68       300\n",
      "   macro avg       0.70      0.68      0.67       300\n",
      "weighted avg       0.70      0.68      0.68       300\n",
      "\n"
     ]
    },
    {
     "name": "stderr",
     "output_type": "stream",
     "text": [
      "/Users/tobyokeefe/opt/anaconda3/lib/python3.9/site-packages/sklearn/utils/validation.py:593: FutureWarning: np.matrix usage is deprecated in 1.0 and will raise a TypeError in 1.2. Please convert to a numpy array with np.asarray. For more information see: https://numpy.org/doc/stable/reference/generated/numpy.matrix.html\n",
      "  warnings.warn(\n"
     ]
    }
   ],
   "source": [
    "#Sparse PCA #2 Components\n",
    "\n",
    "pca = SparsePCA(n_components = 2)\n",
    "x_train_pca = pca.fit_transform(x_train_dense)\n",
    "\n",
    "modelLR = LogisticRegression(penalty='none')\n",
    "\n",
    "modelLR.fit(x_train_pca,y_train)\n",
    "\n",
    "# Transform the test set as well \n",
    "x_test_pca = pca.transform(x_test_dense)\n",
    "\n",
    "# Make predictions on a new set of data\n",
    "predictions = modelLR.predict(x_test_pca)\n",
    "\n",
    "# Compare the predicted labels to the true labels\n",
    "accuracy_on_test_set = modelLR.score(x_test_pca, y_test) #accuracy = # of correct predictions / total # of predictions\n",
    "print(\"Accuracy on the test set:\", accuracy_on_test_set)\n",
    "print(classification_report(y_test,predictions))"
   ]
  },
  {
   "cell_type": "code",
   "execution_count": 10,
   "metadata": {},
   "outputs": [
    {
     "name": "stdout",
     "output_type": "stream",
     "text": [
      "Best C value selected by cross-validation: 0.2511886431509695\n",
      "Best lambda value (regularisation value) selected by cross-validation: 3.98107170553479\n",
      "Accuracy on the test set: 0.6866666666666666\n",
      "              precision    recall  f1-score   support\n",
      "\n",
      "           0       0.65      0.85      0.73       152\n",
      "           1       0.77      0.52      0.62       148\n",
      "\n",
      "    accuracy                           0.69       300\n",
      "   macro avg       0.71      0.68      0.68       300\n",
      "weighted avg       0.71      0.69      0.68       300\n",
      "\n"
     ]
    }
   ],
   "source": [
    "#Logistic Lasso with 5 fold Cross Validation on Sparse PCA reduced data (2 components)\n",
    "\n",
    "alphas = 10.0 ** np.arange(-5, 5, 0.1)\n",
    "\n",
    "cv_scores = [] \n",
    "\n",
    "# Perform cross-validation for each value of C\n",
    "for alpha in alphas:\n",
    "    modelLR_lasso = LogisticRegression(penalty='l1', C = 1/alpha, random_state=1, solver='liblinear')\n",
    "    scores = cross_val_score(modelLR_lasso, x_train_pca, y_train, cv = 5)  # 5-fold cross-validation\n",
    "    cv_scores.append(np.mean(scores))\n",
    "\n",
    "\n",
    "# Find the index corresponding to the best C value\n",
    "best_CV_index = np.argmax(cv_scores)\n",
    "best_alpha = alphas[best_CV_index]\n",
    "\n",
    "# Print or inspect the best C value\n",
    "print(\"Best C value selected by cross-validation:\", 1/best_alpha)\n",
    "print(\"Best lambda value (regularisation value) selected by cross-validation:\", best_alpha)\n",
    "\n",
    "modelLR_lasso = LogisticRegression(penalty='l1', C=1/best_alpha, random_state=1, solver = 'liblinear')\n",
    "\n",
    "modelLR_lasso.fit(x_train_pca,y_train)\n",
    "\n",
    "\n",
    "# Make predictions on a new set of data\n",
    "predictions = modelLR_lasso.predict(x_test_pca)\n",
    "\n",
    "# Compare the predicted labels to the true labels\n",
    "accuracy_on_test_set = modelLR_lasso.score(x_test_pca, y_test) #accuaracy = # of correct predictions / total # of predictions\n",
    "\n",
    "print(\"Accuracy on the test set:\", accuracy_on_test_set)\n",
    "\n",
    "print(classification_report(y_test,predictions))"
   ]
  },
  {
   "cell_type": "code",
   "execution_count": 11,
   "metadata": {},
   "outputs": [
    {
     "name": "stdout",
     "output_type": "stream",
     "text": [
      "Best C value selected by cross-validation: 0.2511886431509695\n",
      "Best lambda value (regularisation value) selected by cross-validation: 3.98107170553479\n",
      "Accuracy on the test set: 0.7\n",
      "              precision    recall  f1-score   support\n",
      "\n",
      "           0       0.70      0.72      0.71       152\n",
      "           1       0.70      0.68      0.69       148\n",
      "\n",
      "    accuracy                           0.70       300\n",
      "   macro avg       0.70      0.70      0.70       300\n",
      "weighted avg       0.70      0.70      0.70       300\n",
      "\n"
     ]
    }
   ],
   "source": [
    "#Logistic Ridge with 5 fold Cross Validation on PCA reduced data (2 components)\n",
    "\n",
    "alphas = 10.0 ** np.arange(-5, 5, 0.1)\n",
    "\n",
    "cv_scores = []  \n",
    "\n",
    "# Perform cross-validation for each value of C\n",
    "for alpha in alphas:\n",
    "    modelLR_Ridge = LogisticRegression(penalty='l2', C = 1/alpha, random_state=1, solver='liblinear')\n",
    "    scores = cross_val_score(modelLR_Ridge, x_train_pca, y_train, cv = 5)  # 5-fold cross-validation\n",
    "    cv_scores.append(np.mean(scores))\n",
    "\n",
    "\n",
    "# Find the index corresponding to the best C value\n",
    "best_CV_index = np.argmax(cv_scores)\n",
    "best_alpha = alphas[best_CV_index]\n",
    "\n",
    "# Print or inspect the best C value\n",
    "print(\"Best C value selected by cross-validation:\", 1/best_alpha)\n",
    "print(\"Best lambda value (regularisation value) selected by cross-validation:\", best_alpha)\n",
    "\n",
    "modelLR_Ridge = LogisticRegression(penalty='l2', C=1/best_alpha, random_state=1, solver = 'liblinear')\n",
    "\n",
    "modelLR_Ridge.fit(x_train_pca,y_train)\n",
    "\n",
    "\n",
    "# Make predictions on a new set of data\n",
    "predictions = modelLR_Ridge.predict(x_test_pca)\n",
    "\n",
    "# Compare the predicted labels to the true labels\n",
    "accuracy_on_test_set = modelLR_Ridge.score(x_test_pca, y_test) #accuaracy = # of correct predictions / total # of predictions\n",
    "\n",
    "print(\"Accuracy on the test set:\", accuracy_on_test_set)\n",
    "\n",
    "print(classification_report(y_test,predictions))"
   ]
  },
  {
   "cell_type": "code",
   "execution_count": 12,
   "metadata": {},
   "outputs": [
    {
     "name": "stderr",
     "output_type": "stream",
     "text": [
      "/Users/tobyokeefe/opt/anaconda3/lib/python3.9/site-packages/sklearn/utils/validation.py:593: FutureWarning: np.matrix usage is deprecated in 1.0 and will raise a TypeError in 1.2. Please convert to a numpy array with np.asarray. For more information see: https://numpy.org/doc/stable/reference/generated/numpy.matrix.html\n",
      "  warnings.warn(\n"
     ]
    },
    {
     "name": "stdout",
     "output_type": "stream",
     "text": [
      "Accuracy on the test set: 0.69\n",
      "              precision    recall  f1-score   support\n",
      "\n",
      "           0       0.65      0.83      0.73       152\n",
      "           1       0.76      0.55      0.64       148\n",
      "\n",
      "    accuracy                           0.69       300\n",
      "   macro avg       0.70      0.69      0.68       300\n",
      "weighted avg       0.70      0.69      0.68       300\n",
      "\n"
     ]
    },
    {
     "name": "stderr",
     "output_type": "stream",
     "text": [
      "/Users/tobyokeefe/opt/anaconda3/lib/python3.9/site-packages/sklearn/utils/validation.py:593: FutureWarning: np.matrix usage is deprecated in 1.0 and will raise a TypeError in 1.2. Please convert to a numpy array with np.asarray. For more information see: https://numpy.org/doc/stable/reference/generated/numpy.matrix.html\n",
      "  warnings.warn(\n",
      "/Users/tobyokeefe/opt/anaconda3/lib/python3.9/site-packages/sklearn/utils/validation.py:593: FutureWarning: np.matrix usage is deprecated in 1.0 and will raise a TypeError in 1.2. Please convert to a numpy array with np.asarray. For more information see: https://numpy.org/doc/stable/reference/generated/numpy.matrix.html\n",
      "  warnings.warn(\n"
     ]
    }
   ],
   "source": [
    "#PCA #4 Components\n",
    "\n",
    "pca = SparsePCA(n_components = 4)\n",
    "x_train_pca = pca.fit_transform(x_train_dense)\n",
    "\n",
    "modelLR = LogisticRegression(penalty='none')\n",
    "\n",
    "modelLR.fit(x_train_pca,y_train)\n",
    "\n",
    "# Transform the test set as well \n",
    "x_test_pca = pca.transform(x_test_dense)\n",
    "\n",
    "# Make predictions on a new set of data\n",
    "predictions = modelLR.predict(x_test_pca)\n",
    "\n",
    "# Compare the predicted labels to the true labels\n",
    "accuracy_on_test_set = modelLR.score(x_test_pca, y_test) #accuracy = # of correct predictions / total # of predictions\n",
    "print(\"Accuracy on the test set:\", accuracy_on_test_set)\n",
    "print(classification_report(y_test,predictions))"
   ]
  },
  {
   "cell_type": "code",
   "execution_count": 13,
   "metadata": {},
   "outputs": [
    {
     "name": "stdout",
     "output_type": "stream",
     "text": [
      "Best C value selected by cross-validation: 6.309573444802149\n",
      "Best lambda value (regularisation value) selected by cross-validation: 0.1584893192461059\n",
      "Accuracy on the test set: 0.6933333333333334\n",
      "              precision    recall  f1-score   support\n",
      "\n",
      "           0       0.65      0.84      0.73       152\n",
      "           1       0.76      0.55      0.64       148\n",
      "\n",
      "    accuracy                           0.69       300\n",
      "   macro avg       0.71      0.69      0.69       300\n",
      "weighted avg       0.71      0.69      0.69       300\n",
      "\n"
     ]
    }
   ],
   "source": [
    "#Logistic Lasso with 5 fold Cross Validation on Sparse PCA reduced data (4 components)\n",
    "\n",
    "alphas = 10.0 ** np.arange(-5, 5, 0.1)\n",
    "\n",
    "cv_scores = [] \n",
    "\n",
    "# Perform cross-validation for each value of C\n",
    "for alpha in alphas:\n",
    "    modelLR_lasso = LogisticRegression(penalty='l1', C = 1/alpha, random_state=1, solver='liblinear')\n",
    "    scores = cross_val_score(modelLR_lasso, x_train_pca, y_train, cv = 5)  # 5-fold cross-validation\n",
    "    cv_scores.append(np.mean(scores))\n",
    "\n",
    "#CV scores by default are the score method of the estimator, in this case the logistic lasso the score is the mean accuracy of self predict on the data\n",
    "\n",
    "# Find the index corresponding to the best C value\n",
    "best_CV_index = np.argmax(cv_scores)\n",
    "best_alpha = alphas[best_CV_index]\n",
    "\n",
    "# Print or inspect the best C value\n",
    "print(\"Best C value selected by cross-validation:\", 1/best_alpha)\n",
    "print(\"Best lambda value (regularisation value) selected by cross-validation:\", best_alpha)\n",
    "\n",
    "modelLR_lasso = LogisticRegression(penalty='l1', C=1/best_alpha, random_state=1, solver = 'liblinear')\n",
    "\n",
    "modelLR_lasso.fit(x_train_pca,y_train)\n",
    "\n",
    "\n",
    "# Make predictions on a new set of data\n",
    "predictions = modelLR_lasso.predict(x_test_pca)\n",
    "\n",
    "# Compare the predicted labels to the true labels\n",
    "accuracy_on_test_set = modelLR_lasso.score(x_test_pca, y_test) #accuaracy = # of correct predictions / total # of predictions\n",
    "\n",
    "print(\"Accuracy on the test set:\", accuracy_on_test_set)\n",
    "\n",
    "print(classification_report(y_test,predictions))"
   ]
  },
  {
   "cell_type": "code",
   "execution_count": 14,
   "metadata": {},
   "outputs": [
    {
     "name": "stdout",
     "output_type": "stream",
     "text": [
      "Best C value selected by cross-validation: 63.09573444802097\n",
      "Best lambda value (regularisation value) selected by cross-validation: 0.01584893192461072\n",
      "Accuracy on the test set: 0.69\n",
      "              precision    recall  f1-score   support\n",
      "\n",
      "           0       0.65      0.83      0.73       152\n",
      "           1       0.76      0.55      0.64       148\n",
      "\n",
      "    accuracy                           0.69       300\n",
      "   macro avg       0.70      0.69      0.68       300\n",
      "weighted avg       0.70      0.69      0.68       300\n",
      "\n"
     ]
    }
   ],
   "source": [
    "#Logistic Ridge with 5 fold Cross Validation on PCA reduced data (4 components)\n",
    "\n",
    "alphas = 10.0 ** np.arange(-5, 5, 0.1)\n",
    "\n",
    "cv_scores = [] ###CAN'T USE LAMBDA SINCE ITS A COMMAND \n",
    "\n",
    "# Perform cross-validation for each value of C\n",
    "for alpha in alphas:\n",
    "    modelLR_Ridge = LogisticRegression(penalty='l2', C = 1/alpha, random_state=1, solver='liblinear')\n",
    "    scores = cross_val_score(modelLR_Ridge, x_train_pca, y_train, cv = 5)  # 5-fold cross-validation\n",
    "    cv_scores.append(np.mean(scores))\n",
    "\n",
    "#CV scores by default are the score method of the estimator, in this case the logistic lasso the score is the mean accuracy of self predict on the data\n",
    "\n",
    "# Find the index corresponding to the best C value\n",
    "best_CV_index = np.argmax(cv_scores)\n",
    "best_alpha = alphas[best_CV_index]\n",
    "\n",
    "# Print or inspect the best C value\n",
    "print(\"Best C value selected by cross-validation:\", 1/best_alpha)\n",
    "print(\"Best lambda value (regularisation value) selected by cross-validation:\", best_alpha)\n",
    "\n",
    "modelLR_Ridge = LogisticRegression(penalty='l2', C=1/best_alpha, random_state=1, solver = 'liblinear')\n",
    "\n",
    "modelLR_Ridge.fit(x_train_pca,y_train)\n",
    "\n",
    "\n",
    "# Make predictions on a new set of data\n",
    "predictions = modelLR_Ridge.predict(x_test_pca)\n",
    "\n",
    "# Compare the predicted labels to the true labels\n",
    "accuracy_on_test_set = modelLR_Ridge.score(x_test_pca, y_test) #accuaracy = # of correct predictions / total # of predictions\n",
    "\n",
    "print(\"Accuracy on the test set:\", accuracy_on_test_set)\n",
    "\n",
    "print(classification_report(y_test,predictions))"
   ]
  },
  {
   "cell_type": "code",
   "execution_count": 15,
   "metadata": {},
   "outputs": [
    {
     "name": "stderr",
     "output_type": "stream",
     "text": [
      "/Users/tobyokeefe/opt/anaconda3/lib/python3.9/site-packages/sklearn/utils/validation.py:593: FutureWarning: np.matrix usage is deprecated in 1.0 and will raise a TypeError in 1.2. Please convert to a numpy array with np.asarray. For more information see: https://numpy.org/doc/stable/reference/generated/numpy.matrix.html\n",
      "  warnings.warn(\n"
     ]
    },
    {
     "name": "stdout",
     "output_type": "stream",
     "text": [
      "Accuracy on the test set: 0.6866666666666666\n",
      "              precision    recall  f1-score   support\n",
      "\n",
      "           0       0.65      0.83      0.73       152\n",
      "           1       0.75      0.54      0.63       148\n",
      "\n",
      "    accuracy                           0.69       300\n",
      "   macro avg       0.70      0.68      0.68       300\n",
      "weighted avg       0.70      0.69      0.68       300\n",
      "\n"
     ]
    },
    {
     "name": "stderr",
     "output_type": "stream",
     "text": [
      "/Users/tobyokeefe/opt/anaconda3/lib/python3.9/site-packages/sklearn/utils/validation.py:593: FutureWarning: np.matrix usage is deprecated in 1.0 and will raise a TypeError in 1.2. Please convert to a numpy array with np.asarray. For more information see: https://numpy.org/doc/stable/reference/generated/numpy.matrix.html\n",
      "  warnings.warn(\n",
      "/Users/tobyokeefe/opt/anaconda3/lib/python3.9/site-packages/sklearn/utils/validation.py:593: FutureWarning: np.matrix usage is deprecated in 1.0 and will raise a TypeError in 1.2. Please convert to a numpy array with np.asarray. For more information see: https://numpy.org/doc/stable/reference/generated/numpy.matrix.html\n",
      "  warnings.warn(\n"
     ]
    }
   ],
   "source": [
    "#PCA #6 Components\n",
    "\n",
    "pca = SparsePCA(n_components = 6)\n",
    "x_train_pca = pca.fit_transform(x_train_dense)\n",
    "\n",
    "modelLR = LogisticRegression(penalty='none')\n",
    "\n",
    "modelLR.fit(x_train_pca,y_train)\n",
    "\n",
    "# Transform the test set as well \n",
    "x_test_pca = pca.transform(x_test_dense)\n",
    "\n",
    "# Make predictions on a new set of data\n",
    "predictions = modelLR.predict(x_test_pca)\n",
    "\n",
    "# Compare the predicted labels to the true labels\n",
    "accuracy_on_test_set = modelLR.score(x_test_pca, y_test) #accuracy = # of correct predictions / total # of predictions\n",
    "print(\"Accuracy on the test set:\", accuracy_on_test_set)\n",
    "print(classification_report(y_test,predictions))"
   ]
  },
  {
   "cell_type": "code",
   "execution_count": 16,
   "metadata": {},
   "outputs": [
    {
     "name": "stdout",
     "output_type": "stream",
     "text": [
      "Best C value selected by cross-validation: 3.162277660168496\n",
      "Best lambda value (regularisation value) selected by cross-validation: 0.3162277660168263\n",
      "Accuracy on the test set: 0.69\n",
      "              precision    recall  f1-score   support\n",
      "\n",
      "           0       0.65      0.84      0.73       152\n",
      "           1       0.76      0.54      0.63       148\n",
      "\n",
      "    accuracy                           0.69       300\n",
      "   macro avg       0.71      0.69      0.68       300\n",
      "weighted avg       0.71      0.69      0.68       300\n",
      "\n"
     ]
    }
   ],
   "source": [
    "#Logistic Lasso with 5 fold Cross Validation on Sparse PCA reduced data (6 components)\n",
    "\n",
    "alphas = 10.0 ** np.arange(-5, 5, 0.1)\n",
    "\n",
    "cv_scores = [] \n",
    "\n",
    "# Perform cross-validation for each value of C\n",
    "for alpha in alphas:\n",
    "    modelLR_lasso = LogisticRegression(penalty='l1', C = 1/alpha, random_state=1, solver='liblinear')\n",
    "    scores = cross_val_score(modelLR_lasso, x_train_pca, y_train, cv = 5)  # 5-fold cross-validation\n",
    "    cv_scores.append(np.mean(scores))\n",
    "\n",
    "#CV scores by default are the score method of the estimator, in this case the logistic lasso the score is the mean accuracy of self predict on the data\n",
    "\n",
    "# Find the index corresponding to the best C value\n",
    "best_CV_index = np.argmax(cv_scores)\n",
    "best_alpha = alphas[best_CV_index]\n",
    "\n",
    "# Print or inspect the best C value\n",
    "print(\"Best C value selected by cross-validation:\", 1/best_alpha)\n",
    "print(\"Best lambda value (regularisation value) selected by cross-validation:\", best_alpha)\n",
    "\n",
    "modelLR_lasso = LogisticRegression(penalty='l1', C=1/best_alpha, random_state=1, solver = 'liblinear')\n",
    "\n",
    "modelLR_lasso.fit(x_train_pca,y_train)\n",
    "\n",
    "\n",
    "# Make predictions on a new set of data\n",
    "predictions = modelLR_lasso.predict(x_test_pca)\n",
    "\n",
    "# Compare the predicted labels to the true labels\n",
    "accuracy_on_test_set = modelLR_lasso.score(x_test_pca, y_test) #accuaracy = # of correct predictions / total # of predictions\n",
    "\n",
    "print(\"Accuracy on the test set:\", accuracy_on_test_set)\n",
    "\n",
    "print(classification_report(y_test,predictions))"
   ]
  },
  {
   "cell_type": "code",
   "execution_count": 17,
   "metadata": {},
   "outputs": [
    {
     "name": "stdout",
     "output_type": "stream",
     "text": [
      "Best C value selected by cross-validation: 99999.99999999999\n",
      "Best lambda value (regularisation value) selected by cross-validation: 1e-05\n",
      "Accuracy on the test set: 0.6866666666666666\n",
      "              precision    recall  f1-score   support\n",
      "\n",
      "           0       0.65      0.83      0.73       152\n",
      "           1       0.75      0.54      0.63       148\n",
      "\n",
      "    accuracy                           0.69       300\n",
      "   macro avg       0.70      0.68      0.68       300\n",
      "weighted avg       0.70      0.69      0.68       300\n",
      "\n"
     ]
    }
   ],
   "source": [
    "#Logistic Ridge with 5 fold Cross Validation on PCA reduced data (6 components)\n",
    "\n",
    "alphas = 10.0 ** np.arange(-5, 5, 0.1)\n",
    "\n",
    "cv_scores = [] ###CAN'T USE LAMBDA SINCE ITS A COMMAND \n",
    "\n",
    "# Perform cross-validation for each value of C\n",
    "for alpha in alphas:\n",
    "    modelLR_Ridge = LogisticRegression(penalty='l2', C = 1/alpha, random_state=1, solver='liblinear')\n",
    "    scores = cross_val_score(modelLR_Ridge, x_train_pca, y_train, cv = 5)  # 5-fold cross-validation\n",
    "    cv_scores.append(np.mean(scores))\n",
    "\n",
    "#CV scores by default are the score method of the estimator, in this case the logistic lasso the score is the mean accuracy of self predict on the data\n",
    "\n",
    "# Find the index corresponding to the best C value\n",
    "best_CV_index = np.argmax(cv_scores)\n",
    "best_alpha = alphas[best_CV_index]\n",
    "\n",
    "# Print or inspect the best C value\n",
    "print(\"Best C value selected by cross-validation:\", 1/best_alpha)\n",
    "print(\"Best lambda value (regularisation value) selected by cross-validation:\", best_alpha)\n",
    "\n",
    "modelLR_Ridge = LogisticRegression(penalty='l2', C=1/best_alpha, random_state=1, solver = 'liblinear')\n",
    "\n",
    "modelLR_Ridge.fit(x_train_pca,y_train)\n",
    "\n",
    "\n",
    "# Make predictions on a new set of data\n",
    "predictions = modelLR_Ridge.predict(x_test_pca)\n",
    "\n",
    "# Compare the predicted labels to the true labels\n",
    "accuracy_on_test_set = modelLR_Ridge.score(x_test_pca, y_test) #accuaracy = # of correct predictions / total # of predictions\n",
    "\n",
    "print(\"Accuracy on the test set:\", accuracy_on_test_set)\n",
    "\n",
    "print(classification_report(y_test,predictions))"
   ]
  }
 ],
 "metadata": {
  "kernelspec": {
   "display_name": "base",
   "language": "python",
   "name": "python3"
  },
  "language_info": {
   "codemirror_mode": {
    "name": "ipython",
    "version": 3
   },
   "file_extension": ".py",
   "mimetype": "text/x-python",
   "name": "python",
   "nbconvert_exporter": "python",
   "pygments_lexer": "ipython3",
   "version": "3.9.12"
  }
 },
 "nbformat": 4,
 "nbformat_minor": 2
}

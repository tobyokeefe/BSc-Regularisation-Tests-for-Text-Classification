{
 "cells": [
  {
   "cell_type": "code",
   "execution_count": 1,
   "metadata": {},
   "outputs": [
    {
     "name": "stdout",
     "output_type": "stream",
     "text": [
      "                                                    text  label\n",
      "0      dear american teens question dutch person hear...      0\n",
      "1      nothing look forward lifei dont many reasons k...      1\n",
      "2      music recommendations im looking expand playli...      0\n",
      "3      im done trying feel betterthe reason im still ...      1\n",
      "4      worried  year old girl subject domestic physic...      1\n",
      "...                                                  ...    ...\n",
      "27972  posting everyday people stop caring  religion ...      0\n",
      "27973  okay definetly need hear guys opinion ive pret...      0\n",
      "27974  cant get dog think ill kill myselfthe last thi...      1\n",
      "27975  whats point princess bridei really think like ...      1\n",
      "27976  got nudes person might might know snapchat do ...      0\n",
      "\n",
      "[27977 rows x 2 columns]\n"
     ]
    }
   ],
   "source": [
    "import numpy as np \n",
    "import pandas as pd \n",
    "import matplotlib.pyplot as plt \n",
    "\n",
    "import nltk\n",
    "from nltk.stem import PorterStemmer\n",
    "from nltk.tokenize import word_tokenize\n",
    "\n",
    "from sklearn.feature_extraction.text import TfidfVectorizer \n",
    "\n",
    "from sklearn.model_selection import train_test_split\n",
    "\n",
    "from sklearn.linear_model import LogisticRegression\n",
    "from sklearn.metrics import classification_report\n",
    "\n",
    "path_name = 'your_path_name_here/mental_health.csv'\n",
    "df=pd.read_csv(path_name)\n",
    "print(df)\n",
    "\n",
    "df = df.drop_duplicates()\n",
    "\n",
    "#Split the matrix into predictors and response \n",
    "msg=df[\"text\"]\n",
    "msg=msg.str.replace('[^a-zA-Z0-9]+',\" h\", regex = True) \n",
    "y=df['label'].values\n",
    "y \n",
    "\n",
    "\n",
    "#Stemming and Tokenising\n",
    "stemmer=PorterStemmer()\n",
    "msg=msg.apply(lambda line:[stemmer.stem(token.lower()) for token in word_tokenize(line)]).apply(lambda token:\" \".join(token))\n",
    "msg=msg.apply(lambda line:[token for token in word_tokenize(line) if len(token)>2]).apply(lambda y:\" \".join(y))\n",
    "\n",
    "#Vectorising\n",
    "tf=TfidfVectorizer() \n",
    "data_vec=tf.fit_transform(msg)\n",
    "\n",
    "#Train, Validation, and Test Split ###RANDOMSTATE=1###\n",
    "from sklearn.model_selection import train_test_split\n",
    "#test_size=0.3 implies 70% will be used to training and 30% for testing. \n",
    "#random_state sets seed for random number generator, ensuring reducibility\n",
    "x_train,x_test,y_train,y_test=train_test_split(data_vec,y,test_size=0.3,random_state=1)"
   ]
  },
  {
   "cell_type": "code",
   "execution_count": 5,
   "metadata": {},
   "outputs": [
    {
     "name": "stdout",
     "output_type": "stream",
     "text": [
      "[0 1 1 ... 0 1 0]\n",
      "Accuracy on the test set: 0.8840562440419447\n",
      "              precision    recall  f1-score   support\n",
      "\n",
      "           0       0.90      0.86      0.88      4271\n",
      "           1       0.87      0.91      0.88      4121\n",
      "\n",
      "    accuracy                           0.88      8392\n",
      "   macro avg       0.88      0.88      0.88      8392\n",
      "weighted avg       0.88      0.88      0.88      8392\n",
      "\n",
      "Precision: 0.8849470350255537\n",
      "Recall: 0.8840562440419447\n",
      "F1 Score: 0.8840433513381494\n"
     ]
    }
   ],
   "source": [
    "#Logistic Regression\n",
    "\n",
    "modelLR = LogisticRegression(penalty='none')\n",
    "\n",
    "modelLR.fit(x_train,y_train)\n",
    "\n",
    "\n",
    "# Make predictions on a new set of data\n",
    "predictions = modelLR.predict(x_test)\n",
    "\n",
    "# Compare the predicted labels to the true labels\n",
    "accuracy_on_test_set = modelLR.score(x_test, y_test) \n",
    "\n",
    "print(\"Accuracy on the test set:\", accuracy_on_test_set)\n",
    "\n",
    "print(classification_report(y_test,predictions))\n"
   ]
  }
 ],
 "metadata": {
  "kernelspec": {
   "display_name": "base",
   "language": "python",
   "name": "python3"
  },
  "language_info": {
   "codemirror_mode": {
    "name": "ipython",
    "version": 3
   },
   "file_extension": ".py",
   "mimetype": "text/x-python",
   "name": "python",
   "nbconvert_exporter": "python",
   "pygments_lexer": "ipython3",
   "version": "3.9.12"
  }
 },
 "nbformat": 4,
 "nbformat_minor": 2
}
